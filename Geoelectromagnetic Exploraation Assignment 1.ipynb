{
  "nbformat": 4,
  "nbformat_minor": 0,
  "metadata": {
    "colab": {
      "name": "Copy of Untitled3.ipynb",
      "provenance": [],
      "collapsed_sections": [],
      "include_colab_link": true
    },
    "kernelspec": {
      "display_name": "Python 3",
      "name": "python3"
    }
  },
  "cells": [
    {
      "cell_type": "markdown",
      "metadata": {
        "id": "view-in-github",
        "colab_type": "text"
      },
      "source": [
        "<a href=\"https://colab.research.google.com/github/geekninja1708/Coding-Exercises/blob/master/Geoelectromagnetic%20Exploraation%20Assignment%201.ipynb\" target=\"_parent\"><img src=\"https://colab.research.google.com/assets/colab-badge.svg\" alt=\"Open In Colab\"/></a>"
      ]
    },
    {
      "cell_type": "code",
      "metadata": {
        "id": "bBFT3Pd5_dMt"
      },
      "source": [
        "import scipy.special as ss\n",
        "import numpy as np\n",
        "import matplotlib.pyplot as plt\n",
        "from sklearn import metrics\n",
        "import scipy.integrate as si\n",
        "from sklearn import metrics"
      ],
      "execution_count": 375,
      "outputs": []
    },
    {
      "cell_type": "code",
      "metadata": {
        "id": "gywr9mzNTYQt"
      },
      "source": [
        "r=np.array([2,4,6,8,10,12,14,16,18,20,22,24,26,28,30,32,34,36,38,40,42,44,46,48,50])\n"
      ],
      "execution_count": 376,
      "outputs": []
    },
    {
      "cell_type": "code",
      "metadata": {
        "id": "EfuQXEUqHVDA"
      },
      "source": [
        "\n",
        "def besselfunctions(x,threshold):\n",
        "  x=r\n",
        "  lamda=np.linspace(0,10000,100000)\n",
        "  lamda1=x[0]*lamda\n",
        "  b=ss.jv(0,lamda1) #bessel equation for all values of lambda\n",
        "  for i in range(len(lamda1)-100):\n",
        "    absol=np.absolute(b[i:i+100]) #Convergence condition\n",
        "    suma=np.sum(absol)\n",
        "    if suma<=threshold:\n",
        "      endarg=i\n",
        "  lamdacon=lamda[0:i]#As the solution to bessel equation should be convergent\n",
        "  M=len(x)# list of values of radius\n",
        "  N=len(lamdacon)# list of lambdas provoding convergent bessel functions\n",
        "  functions=np.zeros((M,N))\n",
        "  for j1 in range(M):\n",
        "    for j2 in range(N):\n",
        "      functions[j1,j2]=ss.jv(0,x[j1]*lamdacon[j2])# list of bessel functions\n",
        "  \n",
        "\n",
        "  \n",
        "\n",
        "  return functions,lamdaN,x\n"
      ],
      "execution_count": 377,
      "outputs": []
    },
    {
      "cell_type": "code",
      "metadata": {
        "id": "518TU14AR6-e"
      },
      "source": [
        "#To make a list of slope values(that is the thing inside the integral)\n",
        "rho=[9,8,5,4,2]#Arbitary values of rho\n",
        "Thickness=[10,12,15,20,9]#Thickness of variuos layers"
      ],
      "execution_count": 378,
      "outputs": []
    },
    {
      "cell_type": "code",
      "metadata": {
        "id": "rIiU2FgeTDbS"
      },
      "source": [
        "#print(rho)\n",
        "#print(Thick)"
      ],
      "execution_count": 379,
      "outputs": []
    },
    {
      "cell_type": "code",
      "metadata": {
        "id": "HeBH9wVVTO8O"
      },
      "source": [
        "def Potential(r,threshold,Kn,rho,thickness,Current): \n",
        "  functions,lamdaN,x=besselfunctions(r,threshold)\n",
        "  N=len(thickness)\n",
        "  K=np.zeros((N,len(lamdaN)))\n",
        "  K[N-1]=Kn\n",
        "  Constant=Current/(2*np.pi*(1/rho[0])) #computation of constant\n",
        "  for j1 in range(0,N-1):\n",
        "    for j2 in range(len(lamdaN)):\n",
        "      K[N-(j1+2),j2]=(K[N-(j1+1),j2]+((rho[N-(j1+2)]/rho[N-(j1+1)])*np.tanh(lamdaN[j2]*thickness[N-(j1+2)])))/((rho[N-(j1+2)]/rho[N-(j1+1)])+(K[N-(j1+1),j2]*np.tanh(lamdaN[j2]*thickness[N-(j1+2)])))# recurrence boundary condition to compute K1\n",
        "      #print(K)\n",
        "  c=np.multiply(functions,K[0])# multiplying bessel function and K1\n",
        "  (Row,Col)=c.shape\n",
        "  Computed_potential=np.zeros((Row,1))\n",
        "  for i in range(Row):\n",
        "    Computed_potential[i,0]=Constant*si.simps(c[i],dx=0.1)# integral for computation of potential\n",
        "  return x,Computed_potential,K"
      ],
      "execution_count": 380,
      "outputs": []
    },
    {
      "cell_type": "code",
      "metadata": {
        "id": "8p9Mc5UQcTta"
      },
      "source": [
        "Kn=np.ones((1,len(lamdaN)))\n",
        "radius,I,K=Potential(r,0.001,Kn,rho,Thickness,1)\n",
        "#print(radius)"
      ],
      "execution_count": 381,
      "outputs": []
    },
    {
      "cell_type": "code",
      "metadata": {
        "id": "YJKTLcc-jDyj",
        "colab": {
          "base_uri": "https://localhost:8080/",
          "height": 296
        },
        "outputId": "8990b0e4-b573-4c9a-bbcf-3a271e344e4e"
      },
      "source": [
        "#print(I,d)\n",
        "plt.plot(d,I)\n",
        "plt.plot(d,I,'b',label='Constructed Model')\n",
        "plt.xlabel('Radius')\n",
        "plt.ylabel('Potential')"
      ],
      "execution_count": 382,
      "outputs": [
        {
          "output_type": "execute_result",
          "data": {
            "text/plain": [
              "Text(0, 0.5, 'Potential')"
            ]
          },
          "metadata": {
            "tags": []
          },
          "execution_count": 382
        },
        {
          "output_type": "display_data",
          "data": {
            "image/png": "[encoded data removed]",
            "text/plain": [
              "<Figure size 432x288 with 1 Axes>"
            ]
          },
          "metadata": {
            "tags": [],
            "needs_background": "light"
          }
        }
      ]
    },
    {
      "cell_type": "code",
      "metadata": {
        "id": "3VzXoiQFSA9i"
      },
      "source": [
        "x=r\n",
        "pot_analytical=[]\n",
        "for i in range(len(x)):\n",
        "  Ab=(rho[0]/(2*np.pi))*(1/d[i])\n",
        "  pot_analytical.append(Ab)\n",
        "#print(pot_analytical)"
      ],
      "execution_count": 383,
      "outputs": []
    },
    {
      "cell_type": "code",
      "metadata": {
        "id": "h57253TdSgWR",
        "colab": {
          "base_uri": "https://localhost:8080/",
          "height": 279
        },
        "outputId": "626707ac-5f33-4d0c-e0d0-fdc8efbfd70b"
      },
      "source": [
        "plt.figure()\n",
        "plt.xlabel('Radius')\n",
        "plt.ylabel('Potential')\n",
        "plt.plot(d,I,'b',label='Constructed Model')\n",
        "plt.plot(x,pot_analytical,'y',label='Analytical Half Space Model')\n",
        "plt.legend()\n",
        "plt.show()"
      ],
      "execution_count": 384,
      "outputs": [
        {
          "output_type": "display_data",
          "data": {
            "image/png": "[encoded data removed]",
            "text/plain": [
              "<Figure size 432x288 with 1 Axes>"
            ]
          },
          "metadata": {
            "tags": [],
            "needs_background": "light"
          }
        }
      ]
    },
    {
      "cell_type": "code",
      "metadata": {
        "id": "M1pXwNpIwUPH",
        "colab": {
          "base_uri": "https://localhost:8080/"
        },
        "outputId": "c68c6ce5-c1df-43f8-c4f8-2b3e6457873b"
      },
      "source": [
        "error1= metrics.mean_absolute_error(I, pot_analytical)\n",
        "error= metrics.mean_squared_error(I, pot_analytical)\n",
        "print(\"The mean absolute error, mean squared error and root mean squared error are\",error1,',',error,'&',np.sqrt(error),'respectively.')\n"
      ],
      "execution_count": 390,
      "outputs": [
        {
          "output_type": "stream",
          "text": [
            "The mean absolute error, mean squared error and root mean squared error are 0.058303270993937104 , 0.004529147246897481 & 0.06729893941881611 respectively.\n"
          ],
          "name": "stdout"
        }
      ]
    }
  ]
}